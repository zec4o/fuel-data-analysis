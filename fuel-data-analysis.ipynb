{
 "cells": [
  {
   "cell_type": "code",
   "execution_count": 177,
   "metadata": {},
   "outputs": [],
   "source": [
    "import matplotlib.pyplot as plt\n",
    "import numpy as np\n",
    "import seaborn as sns\n",
    "import pandas as pd\n",
    "from scipy import stats\n",
    "import openpyxl"
   ]
  },
  {
   "cell_type": "code",
   "execution_count": 165,
   "metadata": {},
   "outputs": [],
   "source": [
    "# Create the dataset\n",
    "df = pd.read_csv('datasets/brazilian-fuel-dataset.tsv', sep='\\t')"
   ]
  },
  {
   "cell_type": "code",
   "execution_count": 166,
   "metadata": {},
   "outputs": [],
   "source": [
    "# Delete columns COEF DE VARIAÇÃO DISTRIBUIÇÃO and DESVIO PADRÃO DISTRIBUIÇÃO and COEF DE VARIAÇÃO REVENDA and DESVIO PADRÃO REVENDA\n",
    "df = df.drop(columns=['COEF DE VARIAÇÃO DISTRIBUIÇÃO', 'DESVIO PADRÃO DISTRIBUIÇÃO', 'COEF DE VARIAÇÃO REVENDA', 'DESVIO PADRÃO REVENDA'])"
   ]
  },
  {
   "cell_type": "code",
   "execution_count": 167,
   "metadata": {},
   "outputs": [],
   "source": [
    "# Trocar formato da data de yyyy/mm/dd para dd/mm/yyyy\n",
    "df['DATA INICIAL'] = pd.to_datetime(df['DATA INICIAL'])\n",
    "df['DATA FINAL'] = pd.to_datetime(df['DATA FINAL'])\n",
    "\n",
    "df['DATA INICIAL'] = df['DATA INICIAL'].dt.strftime('%d/%m/%Y')\n",
    "df['DATA FINAL'] = df['DATA FINAL'].dt.strftime('%d/%m/%Y')\n"
   ]
  },
  {
   "cell_type": "code",
   "execution_count": 168,
   "metadata": {},
   "outputs": [],
   "source": [
    "# Excluir registros que possuem somente \"-\" como valor\n",
    "df.replace('-', pd.NA, inplace=True)\n",
    "df.dropna(inplace=True)"
   ]
  },
  {
   "cell_type": "code",
   "execution_count": 169,
   "metadata": {},
   "outputs": [],
   "source": [
    "# Transformar as colunas de valores em Float\n",
    "cols_to_float = ['PREÇO MÉDIO REVENDA', 'PREÇO MÍNIMO REVENDA', 'PREÇO MÁXIMO REVENDA',\n",
    "                 'MARGEM MÉDIA REVENDA', 'PREÇO MÉDIO DISTRIBUIÇÃO',\n",
    "                 'PREÇO MÍNIMO DISTRIBUIÇÃO', 'PREÇO MÁXIMO DISTRIBUIÇÃO']\n",
    "df[cols_to_float] = df[cols_to_float].replace(',', '.', regex=True).astype(float)"
   ]
  },
  {
   "cell_type": "code",
   "execution_count": 170,
   "metadata": {},
   "outputs": [],
   "source": [
    "# Renomear colunas\n",
    "df.rename(columns={'DATA INICIAL': 'data_inicial', 'DATA FINAL': 'data_final', 'REGIÃO': 'regiao',\n",
    "                   'ESTADO': 'estado', 'PRODUTO': 'produto', 'NÚMERO DE POSTOS PESQUISADOS': 'num_postos',\n",
    "                   'UNIDADE DE MEDIDA': 'unidade', 'PREÇO MÉDIO REVENDA': 'preco_medio_revenda',\n",
    "                   'PREÇO MÍNIMO REVENDA': 'preco_min_revenda', 'PREÇO MÁXIMO REVENDA': 'preco_max_revenda',\n",
    "                   'MARGEM MÉDIA REVENDA': 'margem_media_revenda', 'PREÇO MÉDIO DISTRIBUIÇÃO': 'preco_medio_distribuicao',\n",
    "                   'PREÇO MÍNIMO DISTRIBUIÇÃO': 'preco_min_distribuicao', 'PREÇO MÁXIMO DISTRIBUIÇÃO': 'preco_max_distribuicao'}, inplace=True)"
   ]
  },
  {
   "cell_type": "code",
   "execution_count": 171,
   "metadata": {},
   "outputs": [],
   "source": [
    "# Alterar os datatypes\n",
    "df = df.astype({\n",
    "    'data_inicial': 'object',\n",
    "    'data_final': 'object',\n",
    "    'regiao': 'object',\n",
    "    'estado': 'object',\n",
    "    'produto': 'object',\n",
    "    'num_postos': 'int64',\n",
    "    'unidade': 'object',\n",
    "    'preco_medio_revenda': 'float64',\n",
    "    'preco_min_revenda': 'float64',\n",
    "    'preco_max_revenda': 'float64',\n",
    "    'margem_media_revenda': 'float64',\n",
    "    'preco_medio_distribuicao': 'float64',\n",
    "    'preco_min_distribuicao': 'float64',\n",
    "    'preco_max_distribuicao': 'float64'\n",
    "})"
   ]
  },
  {
   "cell_type": "code",
   "execution_count": 182,
   "metadata": {},
   "outputs": [],
   "source": [
    "# Excluir linhas onde o preco_medio_revenda e margem_media_revenda são -99999.00\n",
    "df = df[df['preco_medio_revenda'] != -99999.0]\n",
    "df = df[df['margem_media_revenda'] != -99999.0]\n"
   ]
  },
  {
   "cell_type": "code",
   "execution_count": 181,
   "metadata": {},
   "outputs": [],
   "source": [
    "# Exportar o dataset em um arquivo Excel\n",
    "df.to_excel(\"./outputs/br_fuel_excel.xlsx\", index=False)\n"
   ]
  }
 ],
 "metadata": {
  "kernelspec": {
   "display_name": "fuel-data-analysis-E_FxHYzS",
   "language": "python",
   "name": "python3"
  },
  "language_info": {
   "codemirror_mode": {
    "name": "ipython",
    "version": 3
   },
   "file_extension": ".py",
   "mimetype": "text/x-python",
   "name": "python",
   "nbconvert_exporter": "python",
   "pygments_lexer": "ipython3",
   "version": "3.12.3"
  }
 },
 "nbformat": 4,
 "nbformat_minor": 2
}
